{
 "cells": [
  {
   "cell_type": "code",
   "execution_count": null,
   "id": "84c487bb-ba56-41e3-b32b-fe22fc25c057",
   "metadata": {},
   "outputs": [],
   "source": [
    "Q1.Ans\n",
    "Python programing language developed by Guido van Rossum. He was dutch programmer.\n",
    "Guido van Rossum started working on python in december 1989,and released the 1st version of\n",
    "python (version 0.9.0) in february 1991."
   ]
  },
  {
   "cell_type": "code",
   "execution_count": null,
   "id": "b4cf68a9-b5c6-4f7d-8de3-473f7b6ba1fa",
   "metadata": {},
   "outputs": [],
   "source": [
    "Q2.Ans\n",
    "following are the Python supporting programing type\n",
    "1.Procedural programing.\n",
    "2.Object-Oriented programing.\n",
    "3.Functional programing.\n",
    "4.Event-Driven programing.\n",
    "5.Aspect-Oriented programing."
   ]
  },
  {
   "cell_type": "code",
   "execution_count": null,
   "id": "a2ad5b1b-c4e4-4f17-8803-659333c184d4",
   "metadata": {},
   "outputs": [],
   "source": [
    "Q3.Ans\n",
    "Yes, Python is case sensitive when dealing with identifiers,\n",
    "which are names given to variables,function,classes,and other object in program."
   ]
  },
  {
   "cell_type": "code",
   "execution_count": null,
   "id": "259e11a5-dd59-4cce-acf3-700dfb249497",
   "metadata": {},
   "outputs": [],
   "source": [
    "Q4.Ans\n",
    "The correct extension of a python file is \".py\"."
   ]
  },
  {
   "cell_type": "code",
   "execution_count": null,
   "id": "c779a430-55c2-4568-8e8e-c16df6f21a5d",
   "metadata": {},
   "outputs": [],
   "source": [
    "Q5.Ans\n",
    "Python ia an interpreted language, which means that is does not need to be compiled before \n",
    "it is excuted. When you run a python program, the python interpreter reads the code line by line,\n",
    "and executed immediately."
   ]
  },
  {
   "cell_type": "code",
   "execution_count": null,
   "id": "7e17d006-dc5d-425e-a5d2-9e22bf583e85",
   "metadata": {},
   "outputs": [],
   "source": [
    "Q6.Ans\n",
    "following are a few blocks of code use in python language \n",
    "1.Fuction blocks.\n",
    "2.Control blocks.\n",
    "3.Class blocks.\n",
    "4.Module blocks."
   ]
  },
  {
   "cell_type": "code",
   "execution_count": null,
   "id": "843f2971-bbdb-4e3b-9983-3e6fda1e7a4d",
   "metadata": {},
   "outputs": [],
   "source": [
    "Q7.Ans\n",
    "In python, the hash symbol (#) \n",
    " is used to indicate single-line comment.   "
   ]
  },
  {
   "cell_type": "code",
   "execution_count": null,
   "id": "876089e8-0d75-4110-9738-ddc5db98a90a",
   "metadata": {},
   "outputs": [],
   "source": [
    "Q8.Ans\n",
    "Following are several functions that can help you find the version of python.\n",
    "1. sys.version\n",
    "2. platform.python_version()\n",
    "3. sys.version_info"
   ]
  },
  {
   "cell_type": "code",
   "execution_count": null,
   "id": "6b0163de-7e48-4e15-913e-b044d8a56401",
   "metadata": {},
   "outputs": [],
   "source": [
    "Q9.Ans\n",
    "Python supports the creation of anonymous functions at runtime,using a\n",
    "construct called (lambda functions)"
   ]
  },
  {
   "cell_type": "code",
   "execution_count": null,
   "id": "1337eef8-3b9d-4328-b19b-18f5cca3b1d7",
   "metadata": {},
   "outputs": [],
   "source": [
    "Q10.Ans\n",
    "In pyhton 'pip' stand for \"pip installs packages\""
   ]
  },
  {
   "cell_type": "code",
   "execution_count": null,
   "id": "6fef9a90-6ebb-43fd-9e4f-9c7290c003c6",
   "metadata": {},
   "outputs": [],
   "source": [
    "Q11.Ans\n",
    "Following are the some built-in function in python.\n",
    "1. print()\n",
    "2. type()\n",
    "3. range()\n",
    "4. input()\n",
    "5. int()\n",
    "6. len()\n",
    "7. float()\n",
    "8. str()"
   ]
  },
  {
   "cell_type": "code",
   "execution_count": null,
   "id": "fb13f37b-132f-45a0-b07c-6f69192d3a28",
   "metadata": {},
   "outputs": [],
   "source": [
    "Q12.Ans\n",
    "In, python the maximum length of an identifier is technically unlimited. \n",
    "however, it is recommended to keep the length of an identifier reasonable and readable."
   ]
  },
  {
   "cell_type": "code",
   "execution_count": null,
   "id": "3a152a15-01d6-462c-8075-8b6e57eaf1e0",
   "metadata": {},
   "outputs": [],
   "source": [
    "Q13.Ans\n",
    "Puthon has number of benefits that make it a popular choice among developers, data scientist,\n",
    "and researchers.\n",
    "1. Easy to learn and use.\n",
    "2. large and active community.\n",
    "3. cross-platform compatibility.\n",
    "4. high level language.\n",
    "5. versatility."
   ]
  },
  {
   "cell_type": "code",
   "execution_count": null,
   "id": "5296d557-3fc7-455e-a01c-f8bf23f45f4c",
   "metadata": {},
   "outputs": [],
   "source": [
    "Q14.Ans\n",
    "Memory managed in python is handled by a private heap space managed by the \n",
    "python memory manager. The memory manager allocates and deallocates memory as needed by the \n",
    "python program, and ensures tha objects that are no longer in use are dellocated \n",
    "from memory."
   ]
  },
  {
   "cell_type": "code",
   "execution_count": null,
   "id": "bf6dbe22-4d4d-4e1f-ae90-2d11891fdb18",
   "metadata": {},
   "outputs": [],
   "source": [
    "Q15.Ans\n",
    "1. Download the latest version of python from official website.\n",
    "2. Run the downloaded installer file and follow the prompt to \n",
    "   install python on your system. During the installation process,\n",
    "    make sure to select the \"Add python to PATH\" option\n",
    "3. Once the installation is complete, open the command prompt\n",
    "   by pressing Windows key + R and then typing \"cmd\" and \n",
    "    pressing enter.\n",
    "4. Type \"python\" in command promt and press enter. If the python \n",
    "   is installed correctly, you should see the python prompt appear.\n",
    "5. Next, you need to set the path environment variable so that you can \n",
    "   run python from any direcory in the command prompt. to do this \n",
    "    right click on \"this pc\" and select properties.\n",
    "6. click on 'advanced system settings' and then click on \"Environment variables\" button.\n",
    "7. Under \"system variables\" , scroll down to the \"path variables\" and click on \"Edit\".\n",
    "8. click on \"new\" and then add the path to the python installation directory. This is typically \n",
    "   \"C:\\PythonXX\" where \"XX\" is the version of python you have installed.\n",
    "9. click 'ok' to close all windows and save changes.\n",
    "10. Open new coomand prompt window and type \"python\" again. If the installation and path variables\n",
    "    werw set up correctly, the python should appear."
   ]
  },
  {
   "cell_type": "code",
   "execution_count": null,
   "id": "1670a852-01c3-422e-be4a-1f4f7a703abe",
   "metadata": {},
   "outputs": [],
   "source": [
    "Q16.Ans\n",
    "yes, identation required in python. In fact, indentation is a fundamental part of \n",
    "pytho`s"
   ]
  }
 ],
 "metadata": {
  "kernelspec": {
   "display_name": "Python 3 (ipykernel)",
   "language": "python",
   "name": "python3"
  },
  "language_info": {
   "codemirror_mode": {
    "name": "ipython",
    "version": 3
   },
   "file_extension": ".py",
   "mimetype": "text/x-python",
   "name": "python",
   "nbconvert_exporter": "python",
   "pygments_lexer": "ipython3",
   "version": "3.10.8"
  }
 },
 "nbformat": 4,
 "nbformat_minor": 5
}
